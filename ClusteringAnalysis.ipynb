{
  "nbformat": 4,
  "nbformat_minor": 0,
  "metadata": {
    "colab": {
      "provenance": []
    },
    "kernelspec": {
      "name": "python3",
      "display_name": "Python 3"
    },
    "language_info": {
      "name": "python"
    }
  },
  "cells": [
    {
      "cell_type": "code",
      "source": [
        "import numpy as np\n",
        "import pandas as pd\n",
        "from sklearn.datasets import load_diabetes\n",
        "from sklearn.preprocessing import StandardScaler, MinMaxScaler\n",
        "from sklearn.decomposition import PCA\n",
        "from sklearn.cluster import KMeans\n",
        "from sklearn.metrics import silhouette_score, calinski_harabasz_score, davies_bouldin_score\n",
        "from tabulate import tabulate\n",
        "import warnings\n",
        "warnings.filterwarnings(\"ignore\")"
      ],
      "metadata": {
        "id": "J8SZrHHAjUb1"
      },
      "execution_count": 5,
      "outputs": []
    },
    {
      "cell_type": "code",
      "source": [
        "diabetes = load_diabetes()\n",
        "X = diabetes.data\n"
      ],
      "metadata": {
        "id": "p5wkBtvgoRQY"
      },
      "execution_count": 6,
      "outputs": []
    },
    {
      "cell_type": "markdown",
      "source": [
        "**K means**\n",
        "\n",
        "\n",
        "n=3"
      ],
      "metadata": {
        "id": "F4aXbnfEqSYe"
      }
    },
    {
      "cell_type": "code",
      "source": [
        "results_data = []\n",
        "\n",
        "# KMeans clustering with different preprocessing techniques\n",
        "preprocessing_techniques = {\n",
        "    \"No Preprocessing\": X,\n",
        "    \"Normalization\": MinMaxScaler().fit_transform(X),\n",
        "    \"PCA\": PCA(n_components=2).fit_transform(X),\n",
        "    \"Transform + Normalization\": MinMaxScaler().fit_transform(PCA(n_components=2).fit_transform(X)),\n",
        "    \"Transform + Normalization + PCA\": PCA(n_components=2).fit_transform(MinMaxScaler().fit_transform(X))\n",
        "}\n",
        "\n",
        "for technique, data in preprocessing_techniques.items():\n",
        "    # Perform KMeans clustering\n",
        "    clustering = KMeans(n_clusters=3, n_init='auto')\n",
        "    labels = clustering.fit_predict(data)\n",
        "\n",
        "    # Calculate evaluation metrics\n",
        "    silhouette = silhouette_score(data, labels)\n",
        "    calinski_harabasz = calinski_harabasz_score(data, labels)\n",
        "    davies_bouldin = davies_bouldin_score(data, labels)\n",
        "\n",
        "    # Append results to the list\n",
        "    results_data.append([technique, silhouette, calinski_harabasz, davies_bouldin])\n",
        "\n",
        "# Table headers\n",
        "headers = [\"Preprocessing Technique\", \"Silhouette Score\", \"Calinski-Harabasz Score\", \"Davies-Bouldin Score\"]\n",
        "\n",
        "# Display the table\n",
        "print(tabulate(results_data, headers=headers, tablefmt='fancy_grid'))"
      ],
      "metadata": {
        "colab": {
          "base_uri": "https://localhost:8080/"
        },
        "id": "QsA0icYLp-tY",
        "outputId": "aa6e6094-8b8f-4c3a-ef53-1458396f2201"
      },
      "execution_count": 7,
      "outputs": [
        {
          "output_type": "stream",
          "name": "stdout",
          "text": [
            "╒═════════════════════════════════╤════════════════════╤═══════════════════════════╤════════════════════════╕\n",
            "│ Preprocessing Technique         │   Silhouette Score │   Calinski-Harabasz Score │   Davies-Bouldin Score │\n",
            "╞═════════════════════════════════╪════════════════════╪═══════════════════════════╪════════════════════════╡\n",
            "│ No Preprocessing                │           0.160617 │                   111.676 │               2.12791  │\n",
            "├─────────────────────────────────┼────────────────────┼───────────────────────────┼────────────────────────┤\n",
            "│ Normalization                   │           0.311145 │                   262.422 │               1.38356  │\n",
            "├─────────────────────────────────┼────────────────────┼───────────────────────────┼────────────────────────┤\n",
            "│ PCA                             │           0.335008 │                   363.548 │               1.02655  │\n",
            "├─────────────────────────────────┼────────────────────┼───────────────────────────┼────────────────────────┤\n",
            "│ Transform + Normalization       │           0.352153 │                   306.148 │               0.968702 │\n",
            "├─────────────────────────────────┼────────────────────┼───────────────────────────┼────────────────────────┤\n",
            "│ Transform + Normalization + PCA │           0.588177 │                   792.432 │               0.545392 │\n",
            "╘═════════════════════════════════╧════════════════════╧═══════════════════════════╧════════════════════════╛\n"
          ]
        }
      ]
    },
    {
      "cell_type": "markdown",
      "source": [
        "**N=4**"
      ],
      "metadata": {
        "id": "q4wzDUreql7t"
      }
    },
    {
      "cell_type": "code",
      "source": [
        "results_data = []\n",
        "\n",
        "# KMeans clustering with different preprocessing techniques\n",
        "preprocessing_techniques = {\n",
        "    \"No Preprocessing\": X,\n",
        "    \"Normalization\": MinMaxScaler().fit_transform(X),\n",
        "    \"PCA\": PCA(n_components=2).fit_transform(X),\n",
        "    \"Transform + Normalization\": MinMaxScaler().fit_transform(PCA(n_components=2).fit_transform(X)),\n",
        "    \"Transform + Normalization + PCA\": PCA(n_components=2).fit_transform(MinMaxScaler().fit_transform(X))\n",
        "}\n",
        "\n",
        "for technique, data in preprocessing_techniques.items():\n",
        "    # Perform KMeans clustering\n",
        "    clustering = KMeans(n_clusters=4, n_init='auto')\n",
        "    labels = clustering.fit_predict(data)\n",
        "\n",
        "    # Calculate evaluation metrics\n",
        "    silhouette = silhouette_score(data, labels)\n",
        "    calinski_harabasz = calinski_harabasz_score(data, labels)\n",
        "    davies_bouldin = davies_bouldin_score(data, labels)\n",
        "\n",
        "    # Append results to the list\n",
        "    results_data.append([technique, silhouette, calinski_harabasz, davies_bouldin])\n",
        "\n",
        "# Table headers\n",
        "headers = [\"Preprocessing Technique\", \"Silhouette Score\", \"Calinski-Harabasz Score\", \"Davies-Bouldin Score\"]\n",
        "\n",
        "# Display the table\n",
        "print(tabulate(results_data, headers=headers,tablefmt='fancy_grid'))"
      ],
      "metadata": {
        "colab": {
          "base_uri": "https://localhost:8080/"
        },
        "id": "1h6gqALTqZbK",
        "outputId": "ef28c058-7768-428d-a04b-1a8bddbd6b77"
      },
      "execution_count": 8,
      "outputs": [
        {
          "output_type": "stream",
          "name": "stdout",
          "text": [
            "╒═════════════════════════════════╤════════════════════╤═══════════════════════════╤════════════════════════╕\n",
            "│ Preprocessing Technique         │   Silhouette Score │   Calinski-Harabasz Score │   Davies-Bouldin Score │\n",
            "╞═════════════════════════════════╪════════════════════╪═══════════════════════════╪════════════════════════╡\n",
            "│ No Preprocessing                │           0.124242 │                   93.6298 │               2.19828  │\n",
            "├─────────────────────────────────┼────────────────────┼───────────────────────────┼────────────────────────┤\n",
            "│ Normalization                   │           0.262156 │                  206.079  │               1.74161  │\n",
            "├─────────────────────────────────┼────────────────────┼───────────────────────────┼────────────────────────┤\n",
            "│ PCA                             │           0.302761 │                  317.857  │               1.13307  │\n",
            "├─────────────────────────────────┼────────────────────┼───────────────────────────┼────────────────────────┤\n",
            "│ Transform + Normalization       │           0.328051 │                  305.358  │               1.01158  │\n",
            "├─────────────────────────────────┼────────────────────┼───────────────────────────┼────────────────────────┤\n",
            "│ Transform + Normalization + PCA │           0.565946 │                 1325.4    │               0.582918 │\n",
            "╘═════════════════════════════════╧════════════════════╧═══════════════════════════╧════════════════════════╛\n"
          ]
        }
      ]
    },
    {
      "cell_type": "code",
      "source": [
        "results_data = []\n",
        "\n",
        "# KMeans clustering with different preprocessing techniques\n",
        "preprocessing_techniques = {\n",
        "    \"No Preprocessing\": X,\n",
        "    \"Normalization\": MinMaxScaler().fit_transform(X),\n",
        "    \"PCA\": PCA(n_components=2).fit_transform(X),\n",
        "    \"Transform + Normalization\": MinMaxScaler().fit_transform(PCA(n_components=2).fit_transform(X)),\n",
        "    \"Transform + Normalization + PCA\": PCA(n_components=2).fit_transform(MinMaxScaler().fit_transform(X))\n",
        "}\n",
        "\n",
        "for technique, data in preprocessing_techniques.items():\n",
        "    # Perform KMeans clustering\n",
        "    clustering = KMeans(n_clusters=5, n_init='auto')\n",
        "    labels = clustering.fit_predict(data)\n",
        "\n",
        "    # Calculate evaluation metrics\n",
        "    silhouette = silhouette_score(data, labels)\n",
        "    calinski_harabasz = calinski_harabasz_score(data, labels)\n",
        "    davies_bouldin = davies_bouldin_score(data, labels)\n",
        "\n",
        "    # Append results to the list\n",
        "    results_data.append([technique, silhouette, calinski_harabasz, davies_bouldin])\n",
        "\n",
        "# Table headers\n",
        "headers = [\"Preprocessing Technique\", \"Silhouette Score\", \"Calinski-Harabasz Score\", \"Davies-Bouldin Score\"]\n",
        "\n",
        "# Display the table\n",
        "print(tabulate(results_data, headers=headers,tablefmt='fancy_grid'))"
      ],
      "metadata": {
        "colab": {
          "base_uri": "https://localhost:8080/"
        },
        "id": "ybdxBnX1rDkC",
        "outputId": "12a854ec-78d9-4d09-e4d3-cd13b8f39848"
      },
      "execution_count": 9,
      "outputs": [
        {
          "output_type": "stream",
          "name": "stdout",
          "text": [
            "╒═════════════════════════════════╤════════════════════╤═══════════════════════════╤════════════════════════╕\n",
            "│ Preprocessing Technique         │   Silhouette Score │   Calinski-Harabasz Score │   Davies-Bouldin Score │\n",
            "╞═════════════════════════════════╪════════════════════╪═══════════════════════════╪════════════════════════╡\n",
            "│ No Preprocessing                │           0.139708 │                   87.0914 │               1.91036  │\n",
            "├─────────────────────────────────┼────────────────────┼───────────────────────────┼────────────────────────┤\n",
            "│ Normalization                   │           0.214595 │                  200.447  │               1.73608  │\n",
            "├─────────────────────────────────┼────────────────────┼───────────────────────────┼────────────────────────┤\n",
            "│ PCA                             │           0.331376 │                  342.703  │               0.973122 │\n",
            "├─────────────────────────────────┼────────────────────┼───────────────────────────┼────────────────────────┤\n",
            "│ Transform + Normalization       │           0.322969 │                  297.982  │               0.94394  │\n",
            "├─────────────────────────────────┼────────────────────┼───────────────────────────┼────────────────────────┤\n",
            "│ Transform + Normalization + PCA │           0.545215 │                 1395.24   │               0.572609 │\n",
            "╘═════════════════════════════════╧════════════════════╧═══════════════════════════╧════════════════════════╛\n"
          ]
        }
      ]
    },
    {
      "cell_type": "markdown",
      "source": [
        "**Hierarchical Clustering**\n",
        "\n",
        "\n",
        "n=3"
      ],
      "metadata": {
        "id": "h4D0_aKjrHi3"
      }
    },
    {
      "cell_type": "code",
      "source": [
        "from sklearn.cluster import AgglomerativeClustering\n",
        "results_data = []\n",
        "\n",
        "# KMeans clustering with different preprocessing techniques\n",
        "preprocessing_techniques = {\n",
        "    \"No Preprocessing\": X,\n",
        "    \"Normalization\": MinMaxScaler().fit_transform(X),\n",
        "    \"PCA\": PCA(n_components=2).fit_transform(X),\n",
        "    \"Transform + Normalization\": MinMaxScaler().fit_transform(PCA(n_components=2).fit_transform(X)),\n",
        "    \"Transform + Normalization + PCA\": PCA(n_components=2).fit_transform(MinMaxScaler().fit_transform(X))\n",
        "}\n",
        "\n",
        "for technique, data in preprocessing_techniques.items():\n",
        "    # Perform Agglomerative Clustering\n",
        "    clustering = AgglomerativeClustering(n_clusters=3)\n",
        "    labels = clustering.fit_predict(data)\n",
        "\n",
        "    # Calculate evaluation metrics\n",
        "    silhouette = silhouette_score(data, labels)\n",
        "    calinski_harabasz = calinski_harabasz_score(data, labels)\n",
        "    davies_bouldin = davies_bouldin_score(data, labels)\n",
        "\n",
        "    # Append results to the list\n",
        "    results_data.append([technique, silhouette, calinski_harabasz, davies_bouldin])\n",
        "\n",
        "# Table headers\n",
        "headers = [\"Preprocessing Technique\", \"Silhouette Score\", \"Calinski-Harabasz Score\", \"Davies-Bouldin Score\"]\n",
        "\n",
        "# Display the table using a 'heavy_grid' format for better readability\n",
        "print(tabulate(results_data, headers=headers, tablefmt='fancy_grid'))"
      ],
      "metadata": {
        "colab": {
          "base_uri": "https://localhost:8080/"
        },
        "id": "2ciGWDOurGtq",
        "outputId": "d8180df3-dbcf-4fb6-aedd-95955d5c67e9"
      },
      "execution_count": 12,
      "outputs": [
        {
          "output_type": "stream",
          "name": "stdout",
          "text": [
            "╒═════════════════════════════════╤════════════════════╤═══════════════════════════╤════════════════════════╕\n",
            "│ Preprocessing Technique         │   Silhouette Score │   Calinski-Harabasz Score │   Davies-Bouldin Score │\n",
            "╞═════════════════════════════════╪════════════════════╪═══════════════════════════╪════════════════════════╡\n",
            "│ No Preprocessing                │           0.124965 │                   95.7586 │               2.13218  │\n",
            "├─────────────────────────────────┼────────────────────┼───────────────────────────┼────────────────────────┤\n",
            "│ Normalization                   │           0.321541 │                  276.313  │               1.36454  │\n",
            "├─────────────────────────────────┼────────────────────┼───────────────────────────┼────────────────────────┤\n",
            "│ PCA                             │           0.323263 │                  323.847  │               1.0961   │\n",
            "├─────────────────────────────────┼────────────────────┼───────────────────────────┼────────────────────────┤\n",
            "│ Transform + Normalization       │           0.315143 │                  284.748  │               0.993822 │\n",
            "├─────────────────────────────────┼────────────────────┼───────────────────────────┼────────────────────────┤\n",
            "│ Transform + Normalization + PCA │           0.612737 │                  957.877  │               0.507718 │\n",
            "╘═════════════════════════════════╧════════════════════╧═══════════════════════════╧════════════════════════╛\n"
          ]
        }
      ]
    },
    {
      "cell_type": "markdown",
      "source": [
        "n = 4\n"
      ],
      "metadata": {
        "id": "MZbXHcDmsaIg"
      }
    },
    {
      "cell_type": "code",
      "source": [
        "results_data = []\n",
        "\n",
        "# KMeans clustering with different preprocessing techniques\n",
        "preprocessing_techniques = {\n",
        "    \"No Preprocessing\": X,\n",
        "    \"Normalization\": MinMaxScaler().fit_transform(X),\n",
        "    \"PCA\": PCA(n_components=2).fit_transform(X),\n",
        "    \"Transform + Normalization\": MinMaxScaler().fit_transform(PCA(n_components=2).fit_transform(X)),\n",
        "    \"Transform + Normalization + PCA\": PCA(n_components=2).fit_transform(MinMaxScaler().fit_transform(X))\n",
        "}\n",
        "\n",
        "for technique, data in preprocessing_techniques.items():\n",
        "    # Perform Agglomerative Clustering\n",
        "    clustering = AgglomerativeClustering(n_clusters=4)\n",
        "    labels = clustering.fit_predict(data)\n",
        "\n",
        "    # Calculate evaluation metrics\n",
        "    silhouette = silhouette_score(data, labels)\n",
        "    calinski_harabasz = calinski_harabasz_score(data, labels)\n",
        "    davies_bouldin = davies_bouldin_score(data, labels)\n",
        "\n",
        "    # Append results to the list\n",
        "    results_data.append([technique, silhouette, calinski_harabasz, davies_bouldin])\n",
        "\n",
        "# Table headers\n",
        "headers = [\"Preprocessing Technique\", \"Silhouette Score\", \"Calinski-Harabasz Score\", \"Davies-Bouldin Score\"]\n",
        "\n",
        "# Display the table using a 'heavy_grid' format for better readability\n",
        "print(tabulate(results_data, headers=headers, tablefmt='fancy_grid'))"
      ],
      "metadata": {
        "colab": {
          "base_uri": "https://localhost:8080/"
        },
        "id": "ETXQeVfxscDb",
        "outputId": "a2f5c904-b5c4-48f8-ad2c-5ef34689930c"
      },
      "execution_count": 13,
      "outputs": [
        {
          "output_type": "stream",
          "name": "stdout",
          "text": [
            "╒═════════════════════════════════╤════════════════════╤═══════════════════════════╤════════════════════════╕\n",
            "│ Preprocessing Technique         │   Silhouette Score │   Calinski-Harabasz Score │   Davies-Bouldin Score │\n",
            "╞═════════════════════════════════╪════════════════════╪═══════════════════════════╪════════════════════════╡\n",
            "│ No Preprocessing                │           0.113048 │                   79.5667 │               2.09368  │\n",
            "├─────────────────────────────────┼────────────────────┼───────────────────────────┼────────────────────────┤\n",
            "│ Normalization                   │           0.212095 │                  227.429  │               1.66447  │\n",
            "├─────────────────────────────────┼────────────────────┼───────────────────────────┼────────────────────────┤\n",
            "│ PCA                             │           0.329457 │                  294.155  │               0.909887 │\n",
            "├─────────────────────────────────┼────────────────────┼───────────────────────────┼────────────────────────┤\n",
            "│ Transform + Normalization       │           0.30911  │                  265.261  │               0.933864 │\n",
            "├─────────────────────────────────┼────────────────────┼───────────────────────────┼────────────────────────┤\n",
            "│ Transform + Normalization + PCA │           0.568101 │                 1309.3    │               0.579338 │\n",
            "╘═════════════════════════════════╧════════════════════╧═══════════════════════════╧════════════════════════╛\n"
          ]
        }
      ]
    },
    {
      "cell_type": "markdown",
      "source": [
        "n = 5\n"
      ],
      "metadata": {
        "id": "zTqC_RVNsihD"
      }
    },
    {
      "cell_type": "code",
      "source": [
        "results_data = []\n",
        "\n",
        "# KMeans clustering with different preprocessing techniques\n",
        "preprocessing_techniques = {\n",
        "    \"No Preprocessing\": X,\n",
        "    \"Normalization\": MinMaxScaler().fit_transform(X),\n",
        "    \"PCA\": PCA(n_components=2).fit_transform(X),\n",
        "    \"Transform + Normalization\": MinMaxScaler().fit_transform(PCA(n_components=2).fit_transform(X)),\n",
        "    \"Transform + Normalization + PCA\": PCA(n_components=2).fit_transform(MinMaxScaler().fit_transform(X))\n",
        "}\n",
        "\n",
        "for technique, data in preprocessing_techniques.items():\n",
        "    # Perform Agglomerative Clustering\n",
        "    clustering = AgglomerativeClustering(n_clusters=5)\n",
        "    labels = clustering.fit_predict(data)\n",
        "\n",
        "    # Calculate evaluation metrics\n",
        "    silhouette = silhouette_score(data, labels)\n",
        "    calinski_harabasz = calinski_harabasz_score(data, labels)\n",
        "    davies_bouldin = davies_bouldin_score(data, labels)\n",
        "\n",
        "    # Append results to the list\n",
        "    results_data.append([technique, silhouette, calinski_harabasz, davies_bouldin])\n",
        "\n",
        "# Table headers\n",
        "headers = [\"Preprocessing Technique\", \"Silhouette Score\", \"Calinski-Harabasz Score\", \"Davies-Bouldin Score\"]\n",
        "\n",
        "# Display the table using a 'heavy_grid' format for better readability\n",
        "print(tabulate(results_data, headers=headers, tablefmt='fancy_grid'))"
      ],
      "metadata": {
        "colab": {
          "base_uri": "https://localhost:8080/"
        },
        "id": "wwyobSjJsj5g",
        "outputId": "0500d798-125b-4bc1-a58e-304db32a40dd"
      },
      "execution_count": 14,
      "outputs": [
        {
          "output_type": "stream",
          "name": "stdout",
          "text": [
            "╒═════════════════════════════════╤════════════════════╤═══════════════════════════╤════════════════════════╕\n",
            "│ Preprocessing Technique         │   Silhouette Score │   Calinski-Harabasz Score │   Davies-Bouldin Score │\n",
            "╞═════════════════════════════════╪════════════════════╪═══════════════════════════╪════════════════════════╡\n",
            "│ No Preprocessing                │           0.101033 │                   71.7888 │               2.09945  │\n",
            "├─────────────────────────────────┼────────────────────┼───────────────────────────┼────────────────────────┤\n",
            "│ Normalization                   │           0.147642 │                  184.886  │               1.85233  │\n",
            "├─────────────────────────────────┼────────────────────┼───────────────────────────┼────────────────────────┤\n",
            "│ PCA                             │           0.298951 │                  301.112  │               1.03872  │\n",
            "├─────────────────────────────────┼────────────────────┼───────────────────────────┼────────────────────────┤\n",
            "│ Transform + Normalization       │           0.303398 │                  276.653  │               0.921312 │\n",
            "├─────────────────────────────────┼────────────────────┼───────────────────────────┼────────────────────────┤\n",
            "│ Transform + Normalization + PCA │           0.528565 │                 1319.28   │               0.575199 │\n",
            "╘═════════════════════════════════╧════════════════════╧═══════════════════════════╧════════════════════════╛\n"
          ]
        }
      ]
    },
    {
      "cell_type": "markdown",
      "source": [
        "**Spectral Clustering**\n",
        "\n",
        "\n",
        "N = 3"
      ],
      "metadata": {
        "id": "bMmdIbt6td1j"
      }
    },
    {
      "cell_type": "code",
      "source": [
        "from sklearn.cluster import SpectralClustering\n",
        "results_data = []\n",
        "\n",
        "# Spectral clustering with different preprocessing techniques\n",
        "preprocessing_techniques = {\n",
        "    \"No Preprocessing\": X,\n",
        "    \"Normalization\": MinMaxScaler().fit_transform(X),\n",
        "    \"PCA\": PCA(n_components=2).fit_transform(X),\n",
        "    \"Transform + Normalization\": MinMaxScaler().fit_transform(PCA(n_components=2).fit_transform(X)),\n",
        "    \"Transform + Normalization + PCA\": PCA(n_components=2).fit_transform(MinMaxScaler().fit_transform(X))\n",
        "}\n",
        "for technique, data in preprocessing_techniques.items():\n",
        "    # Perform Spectral clustering\n",
        "    clustering = SpectralClustering(n_clusters=3, assign_labels='discretize', random_state=42)\n",
        "    try:\n",
        "        labels = clustering.fit_predict(data)\n",
        "        # Ensure there are at least two unique labels\n",
        "        if len(set(labels)) < 2:\n",
        "            raise ValueError(\"Spectral Clustering resulted in fewer than 2 unique labels.\")\n",
        "\n",
        "        # Calculate evaluation metrics\n",
        "        silhouette = silhouette_score(data, labels)\n",
        "        calinski_harabasz = calinski_harabasz_score(data, labels)\n",
        "        davies_bouldin = davies_bouldin_score(data, labels)\n",
        "    except ValueError as e:\n",
        "        print(f\"Error processing {technique}: {e}\")\n",
        "        silhouette, calinski_harabasz, davies_bouldin = np.nan, np.nan, np.nan\n",
        "\n",
        "    # Append results to the list\n",
        "    results_data.append([technique, silhouette, calinski_harabasz, davies_bouldin])\n",
        "\n",
        "\n",
        "# Table headers\n",
        "headers = [\"Preprocessing Technique\", \"Silhouette Score\", \"Calinski-Harabasz Score\", \"Davies-Bouldin Score\"]\n",
        "\n",
        "# Display the table\n",
        "print(tabulate(results_data, headers=headers,tablefmt='fancy_grid'))"
      ],
      "metadata": {
        "colab": {
          "base_uri": "https://localhost:8080/"
        },
        "id": "PTHEcMzcsoU1",
        "outputId": "0ae25a40-3f9f-4a9d-c89d-2e0e886e009f"
      },
      "execution_count": 16,
      "outputs": [
        {
          "output_type": "stream",
          "name": "stdout",
          "text": [
            "╒═════════════════════════════════╤════════════════════╤═══════════════════════════╤════════════════════════╕\n",
            "│ Preprocessing Technique         │   Silhouette Score │   Calinski-Harabasz Score │   Davies-Bouldin Score │\n",
            "╞═════════════════════════════════╪════════════════════╪═══════════════════════════╪════════════════════════╡\n",
            "│ No Preprocessing                │           0.164956 │                   103.553 │               2.02418  │\n",
            "├─────────────────────────────────┼────────────────────┼───────────────────────────┼────────────────────────┤\n",
            "│ Normalization                   │           0.31222  │                   263.523 │               1.34281  │\n",
            "├─────────────────────────────────┼────────────────────┼───────────────────────────┼────────────────────────┤\n",
            "│ PCA                             │           0.335604 │                   300.145 │               1.10258  │\n",
            "├─────────────────────────────────┼────────────────────┼───────────────────────────┼────────────────────────┤\n",
            "│ Transform + Normalization       │           0.347474 │                   293.631 │               0.992295 │\n",
            "├─────────────────────────────────┼────────────────────┼───────────────────────────┼────────────────────────┤\n",
            "│ Transform + Normalization + PCA │           0.583233 │                   823.951 │               0.587651 │\n",
            "╘═════════════════════════════════╧════════════════════╧═══════════════════════════╧════════════════════════╛\n"
          ]
        }
      ]
    },
    {
      "cell_type": "markdown",
      "source": [
        "n = 4\n"
      ],
      "metadata": {
        "id": "urkTyZ5314Mg"
      }
    },
    {
      "cell_type": "code",
      "source": [
        "results_data = []\n",
        "\n",
        "# Spectral clustering with different preprocessing techniques\n",
        "preprocessing_techniques = {\n",
        "    \"No Preprocessing\": X,\n",
        "    \"Normalization\": MinMaxScaler().fit_transform(X),\n",
        "    \"PCA\": PCA(n_components=2).fit_transform(X),\n",
        "    \"Transform + Normalization\": MinMaxScaler().fit_transform(PCA(n_components=2).fit_transform(X)),\n",
        "    \"Transform + Normalization + PCA\": PCA(n_components=2).fit_transform(MinMaxScaler().fit_transform(X))\n",
        "}\n",
        "for technique, data in preprocessing_techniques.items():\n",
        "    # Perform Spectral clustering\n",
        "    clustering = SpectralClustering(n_clusters=4, assign_labels='discretize', random_state=42)\n",
        "    try:\n",
        "        labels = clustering.fit_predict(data)\n",
        "        # Ensure there are at least two unique labels\n",
        "        if len(set(labels)) < 2:\n",
        "            raise ValueError(\"Spectral Clustering resulted in fewer than 2 unique labels.\")\n",
        "\n",
        "        # Calculate evaluation metrics\n",
        "        silhouette = silhouette_score(data, labels)\n",
        "        calinski_harabasz = calinski_harabasz_score(data, labels)\n",
        "        davies_bouldin = davies_bouldin_score(data, labels)\n",
        "    except ValueError as e:\n",
        "        print(f\"Error processing {technique}: {e}\")\n",
        "        silhouette, calinski_harabasz, davies_bouldin = np.nan, np.nan, np.nan\n",
        "\n",
        "    # Append results to the list\n",
        "    results_data.append([technique, silhouette, calinski_harabasz, davies_bouldin])\n",
        "\n",
        "\n",
        "# Table headers\n",
        "headers = [\"Preprocessing Technique\", \"Silhouette Score\", \"Calinski-Harabasz Score\", \"Davies-Bouldin Score\"]\n",
        "\n",
        "# Display the table\n",
        "print(tabulate(results_data, headers=headers,tablefmt='fancy_grid'))"
      ],
      "metadata": {
        "colab": {
          "base_uri": "https://localhost:8080/"
        },
        "id": "rBFfIHoMzcfW",
        "outputId": "97f7d7d6-8671-4893-a907-f7596f1def67"
      },
      "execution_count": 17,
      "outputs": [
        {
          "output_type": "stream",
          "name": "stdout",
          "text": [
            "╒═════════════════════════════════╤════════════════════╤═══════════════════════════╤════════════════════════╕\n",
            "│ Preprocessing Technique         │   Silhouette Score │   Calinski-Harabasz Score │   Davies-Bouldin Score │\n",
            "╞═════════════════════════════════╪════════════════════╪═══════════════════════════╪════════════════════════╡\n",
            "│ No Preprocessing                │           0.13337  │                   87.3762 │               1.92587  │\n",
            "├─────────────────────────────────┼────────────────────┼───────────────────────────┼────────────────────────┤\n",
            "│ Normalization                   │           0.227854 │                  242.032  │               1.58222  │\n",
            "├─────────────────────────────────┼────────────────────┼───────────────────────────┼────────────────────────┤\n",
            "│ PCA                             │           0.325637 │                  325.818  │               0.952323 │\n",
            "├─────────────────────────────────┼────────────────────┼───────────────────────────┼────────────────────────┤\n",
            "│ Transform + Normalization       │           0.329696 │                  292.914  │               0.91709  │\n",
            "├─────────────────────────────────┼────────────────────┼───────────────────────────┼────────────────────────┤\n",
            "│ Transform + Normalization + PCA │           0.563468 │                 1319.38   │               0.586164 │\n",
            "╘═════════════════════════════════╧════════════════════╧═══════════════════════════╧════════════════════════╛\n"
          ]
        }
      ]
    },
    {
      "cell_type": "markdown",
      "source": [
        "n = 5"
      ],
      "metadata": {
        "id": "31mpIFm51y2v"
      }
    },
    {
      "cell_type": "code",
      "source": [
        "results_data = []\n",
        "\n",
        "# Spectral clustering with different preprocessing techniques\n",
        "preprocessing_techniques = {\n",
        "    \"No Preprocessing\": X,\n",
        "    \"Normalization\": MinMaxScaler().fit_transform(X),\n",
        "    \"PCA\": PCA(n_components=2).fit_transform(X),\n",
        "    \"Transform + Normalization\": MinMaxScaler().fit_transform(PCA(n_components=2).fit_transform(X)),\n",
        "    \"Transform + Normalization + PCA\": PCA(n_components=2).fit_transform(MinMaxScaler().fit_transform(X))\n",
        "}\n",
        "for technique, data in preprocessing_techniques.items():\n",
        "    # Perform Spectral clustering\n",
        "    clustering = SpectralClustering(n_clusters=5, assign_labels='discretize', random_state=42)\n",
        "    try:\n",
        "        labels = clustering.fit_predict(data)\n",
        "        # Ensure there are at least two unique labels\n",
        "        if len(set(labels)) < 2:\n",
        "            raise ValueError(\"Spectral Clustering resulted in fewer than 2 unique labels.\")\n",
        "\n",
        "        # Calculate evaluation metrics\n",
        "        silhouette = silhouette_score(data, labels)\n",
        "        calinski_harabasz = calinski_harabasz_score(data, labels)\n",
        "        davies_bouldin = davies_bouldin_score(data, labels)\n",
        "    except ValueError as e:\n",
        "        print(f\"Error processing {technique}: {e}\")\n",
        "        silhouette, calinski_harabasz, davies_bouldin = np.nan, np.nan, np.nan\n",
        "\n",
        "    # Append results to the list\n",
        "    results_data.append([technique, silhouette, calinski_harabasz, davies_bouldin])\n",
        "\n",
        "\n",
        "# Table headers\n",
        "headers = [\"Preprocessing Technique\", \"Silhouette Score\", \"Calinski-Harabasz Score\", \"Davies-Bouldin Score\"]\n",
        "\n",
        "# Display the table\n",
        "print(tabulate(results_data, headers=headers,tablefmt='fancy_grid'))"
      ],
      "metadata": {
        "colab": {
          "base_uri": "https://localhost:8080/"
        },
        "id": "tongn3E-z4l3",
        "outputId": "07b0c61a-baaf-4aa1-a7b8-4b2fc8f7ab08"
      },
      "execution_count": 18,
      "outputs": [
        {
          "output_type": "stream",
          "name": "stdout",
          "text": [
            "╒═════════════════════════════════╤════════════════════╤═══════════════════════════╤════════════════════════╕\n",
            "│ Preprocessing Technique         │   Silhouette Score │   Calinski-Harabasz Score │   Davies-Bouldin Score │\n",
            "╞═════════════════════════════════╪════════════════════╪═══════════════════════════╪════════════════════════╡\n",
            "│ No Preprocessing                │           0.130718 │                   71.3693 │               1.8748   │\n",
            "├─────────────────────────────────┼────────────────────┼───────────────────────────┼────────────────────────┤\n",
            "│ Normalization                   │           0.197389 │                  192.339  │               1.66718  │\n",
            "├─────────────────────────────────┼────────────────────┼───────────────────────────┼────────────────────────┤\n",
            "│ PCA                             │           0.320614 │                  327.089  │               0.918542 │\n",
            "├─────────────────────────────────┼────────────────────┼───────────────────────────┼────────────────────────┤\n",
            "│ Transform + Normalization       │           0.317395 │                  287.015  │               0.884286 │\n",
            "├─────────────────────────────────┼────────────────────┼───────────────────────────┼────────────────────────┤\n",
            "│ Transform + Normalization + PCA │           0.526178 │                 1169.84   │               0.589715 │\n",
            "╘═════════════════════════════════╧════════════════════╧═══════════════════════════╧════════════════════════╛\n"
          ]
        }
      ]
    },
    {
      "cell_type": "code",
      "source": [
        "from tabulate import tabulate\n",
        "\n",
        "# Assuming the results lists are filled with data as per your example structure\n",
        "results_kmeans = [\n",
        "    [\"No Preprocessing\", 3, 0.153473, 117.464, 1.98265],\n",
        "    [\"Normalization\", 3, 0.3109, 262.469, 1.3709],\n",
        "    [\"PCA\", 3, 0.3349, 363.552, 1.0261],\n",
        "    [\"T + N\", 3, 0.3430, 290.979, 0.9775],\n",
        "    [\"T + N + P\", 3, 0.6084, 958.708, 0.5222],\n",
        "\n",
        "    [\"No Preprocessing\", 4, 0.1378, 87.2568, 1.9683],\n",
        "    [\"Normalization\", 4, 0.2056, 200.934, 1.5994],\n",
        "    [\"PCA\", 4, 0.3301, 358.687, 0.9718],\n",
        "    [\"T + N\", 4, 0.3291, 311.594, 0.9794],\n",
        "    [\"T + N + P\", 4, 0.5466, 1325.95, 0.5782],\n",
        "\n",
        "    [\"No Preprocessing\", 5, 0.142, 87.2568, 1.9683],\n",
        "    [\"Normalization\", 5, 0.2056, 200.934, 1.5994],\n",
        "    [\"PCA\", 5, 0.3301, 342.172, 0.9718],\n",
        "    [\"T + N\", 5, 0.3291, 295.728, 0.9018],\n",
        "    [\"T + N + P\", 5, 0.5466, 1391.96, 0.5707],\n",
        "\n",
        "\n",
        "    # Add entries for n_clusters=4,5 and other techniques\n",
        "]\n",
        "\n",
        "results_hierarchical = [\n",
        "    [\"No Preprocessing\", 3, 0.1249, 95.7586, 2.132],\n",
        "    [\"Normalization\", 3, 0.3215, 276.313, 1.3645],\n",
        "    [\"PCA\", 3, 0.3232, 323.847, 1.0961],\n",
        "    [\"T + N\", 3, 0.3151, 284.748, 0.9938],\n",
        "    [\"T + N + P\", 3, 0.6127, 957.877, 0.5077],\n",
        "\n",
        "    [\"No Preprocessing\", 4, 0.1130, 79.5667, 2.093],\n",
        "    [\"Normalization\", 4, 0.2120, 227.429, 1.6644],\n",
        "    [\"PCA\", 4, 0.3294, 294.155, 0.9098],\n",
        "    [\"T + N\", 4, 0.30911, 265.261, 0.9336],\n",
        "    [\"T + N + P\", 4, 0.5681, 1309.3, 0.5793],\n",
        "\n",
        "    [\"No Preprocessing\", 5, 0.1010, 71.7888, 2.099],\n",
        "    [\"Normalization\", 5, 0.1476, 184.886, 1.8523],\n",
        "    [\"PCA\", 5, 0.2989, 301.112, 1.0387],\n",
        "    [\"T + N\", 5, 0.3033, 276.653, 0.9213],\n",
        "    [\"T + N + P\", 5, 0.5285, 1319.28, 0.5751],\n",
        "    # Add entries for n_clusters=4,5 and other techniques\n",
        "]\n",
        "\n",
        "results_spectral = [\n",
        "    [\"No Preprocessing\", 3, 0.1649, 103.553, 2.024],\n",
        "    [\"Normalization\", 3, 0.3122, 263.523, 1.3428],\n",
        "    [\"PCA\", 3, 0.3356, 300.145, 1.1025],\n",
        "    [\"T + N\", 3, 0.3474, 293.631, 0.9922],\n",
        "    [\"T + N + P\", 3, 0.5832, 823.951, 0.5876],\n",
        "\n",
        "    [\"No Preprocessing\", 4, 0.1333, 87.3762, 1.9258],\n",
        "    [\"Normalization\", 4, 0.2278, 242.032, 1.5822],\n",
        "    [\"PCA\", 4, 0.3256, 325.818, 0.9523],\n",
        "    [\"T + N\", 4, 0.3296, 292.914, 0.91709],\n",
        "    [\"T + N + P\", 4, 0.5634, 1319.38, 0.5861],\n",
        "\n",
        "    [\"No Preprocessing\", 5, 0.1307, 71.3693, 1.8748],\n",
        "    [\"Normalization\", 5, 0.1973, 192.339, 1.6671],\n",
        "    [\"PCA\", 5, 0.3206, 327.089, 0.9185],\n",
        "    [\"T + N\", 5, 0.3173, 287.015, 0.8842],\n",
        "    [\"T + N + P\", 5, 0.5261, 1169.84, 0.5897],\n",
        "\n",
        "    # Add entries for n_clusters=4,5 and other techniques\n",
        "]\n",
        "\n",
        "# Combine the results into a single table\n",
        "combined_results = []\n",
        "\n",
        "# Assuming each list has the same preprocessing techniques and n_clusters values\n",
        "preprocessing_techniques = set(row[0] for row in results_kmeans)\n",
        "n_clusters_values = (set(row[1] for row in results_kmeans))\n",
        "\n",
        "for technique in preprocessing_techniques:\n",
        "    for n_clusters in n_clusters_values:\n",
        "        # Find corresponding rows in each result list\n",
        "        row_kmeans = next((row for row in results_kmeans if row[0] == technique and row[1] == n_clusters), None)\n",
        "        row_hierarchical = next((row for row in results_hierarchical if row[0] == technique and row[1] == n_clusters), None)\n",
        "        row_spectral = next((row for row in results_spectral if row[0] == technique and row[1] == n_clusters), None)\n",
        "\n",
        "        # Assuming there is always a matching row for each technique and n_clusters\n",
        "        combined_row = [\n",
        "            technique, n_clusters,\n",
        "            row_kmeans[2], row_kmeans[3], row_kmeans[4],  # KMeans metrics\n",
        "            row_hierarchical[2], row_hierarchical[3], row_hierarchical[4],  # Hierarchical metrics\n",
        "            row_spectral[2], row_spectral[3], row_spectral[4]  # Spectral metrics\n",
        "        ]\n",
        "\n",
        "        combined_results.append(combined_row)\n",
        "\n",
        "# Define headers for the combined table\n",
        "headers = [\"Technique\", \"N Clusters\",\n",
        "           \"KM Silhouette\", \"KM Calinski-Harabasz\", \"KM Davies-Bouldin\",\n",
        "           \"H Silhouette\", \"H Calinski-Harabasz\", \"H Davies-Bouldin\",\n",
        "           \"S Silhouette\", \"S Calinski-Harabasz\", \"S Davies-Bouldin\"]\n",
        "\n",
        "# Display the combined table\n",
        "print(tabulate(combined_results, headers=headers, tablefmt='fancy_grid'))\n"
      ],
      "metadata": {
        "colab": {
          "base_uri": "https://localhost:8080/"
        },
        "id": "bpt29lO-5pSQ",
        "outputId": "75398ed6-fcf7-4cb7-8ab7-3657f51aaa92"
      },
      "execution_count": 19,
      "outputs": [
        {
          "output_type": "stream",
          "name": "stdout",
          "text": [
            "╒══════════════════╤══════════════╤═════════════════╤════════════════════════╤═════════════════════╤════════════════╤═══════════════════════╤════════════════════╤════════════════╤═══════════════════════╤════════════════════╕\n",
            "│ Technique        │   N Clusters │   KM Silhouette │   KM Calinski-Harabasz │   KM Davies-Bouldin │   H Silhouette │   H Calinski-Harabasz │   H Davies-Bouldin │   S Silhouette │   S Calinski-Harabasz │   S Davies-Bouldin │\n",
            "╞══════════════════╪══════════════╪═════════════════╪════════════════════════╪═════════════════════╪════════════════╪═══════════════════════╪════════════════════╪════════════════╪═══════════════════════╪════════════════════╡\n",
            "│ T + N + P        │            3 │        0.6084   │               958.708  │             0.5222  │        0.6127  │              957.877  │             0.5077 │         0.5832 │              823.951  │            0.5876  │\n",
            "├──────────────────┼──────────────┼─────────────────┼────────────────────────┼─────────────────────┼────────────────┼───────────────────────┼────────────────────┼────────────────┼───────────────────────┼────────────────────┤\n",
            "│ T + N + P        │            4 │        0.5466   │              1325.95   │             0.5782  │        0.5681  │             1309.3    │             0.5793 │         0.5634 │             1319.38   │            0.5861  │\n",
            "├──────────────────┼──────────────┼─────────────────┼────────────────────────┼─────────────────────┼────────────────┼───────────────────────┼────────────────────┼────────────────┼───────────────────────┼────────────────────┤\n",
            "│ T + N + P        │            5 │        0.5466   │              1391.96   │             0.5707  │        0.5285  │             1319.28   │             0.5751 │         0.5261 │             1169.84   │            0.5897  │\n",
            "├──────────────────┼──────────────┼─────────────────┼────────────────────────┼─────────────────────┼────────────────┼───────────────────────┼────────────────────┼────────────────┼───────────────────────┼────────────────────┤\n",
            "│ No Preprocessing │            3 │        0.153473 │               117.464  │             1.98265 │        0.1249  │               95.7586 │             2.132  │         0.1649 │              103.553  │            2.024   │\n",
            "├──────────────────┼──────────────┼─────────────────┼────────────────────────┼─────────────────────┼────────────────┼───────────────────────┼────────────────────┼────────────────┼───────────────────────┼────────────────────┤\n",
            "│ No Preprocessing │            4 │        0.1378   │                87.2568 │             1.9683  │        0.113   │               79.5667 │             2.093  │         0.1333 │               87.3762 │            1.9258  │\n",
            "├──────────────────┼──────────────┼─────────────────┼────────────────────────┼─────────────────────┼────────────────┼───────────────────────┼────────────────────┼────────────────┼───────────────────────┼────────────────────┤\n",
            "│ No Preprocessing │            5 │        0.142    │                87.2568 │             1.9683  │        0.101   │               71.7888 │             2.099  │         0.1307 │               71.3693 │            1.8748  │\n",
            "├──────────────────┼──────────────┼─────────────────┼────────────────────────┼─────────────────────┼────────────────┼───────────────────────┼────────────────────┼────────────────┼───────────────────────┼────────────────────┤\n",
            "│ T + N            │            3 │        0.343    │               290.979  │             0.9775  │        0.3151  │              284.748  │             0.9938 │         0.3474 │              293.631  │            0.9922  │\n",
            "├──────────────────┼──────────────┼─────────────────┼────────────────────────┼─────────────────────┼────────────────┼───────────────────────┼────────────────────┼────────────────┼───────────────────────┼────────────────────┤\n",
            "│ T + N            │            4 │        0.3291   │               311.594  │             0.9794  │        0.30911 │              265.261  │             0.9336 │         0.3296 │              292.914  │            0.91709 │\n",
            "├──────────────────┼──────────────┼─────────────────┼────────────────────────┼─────────────────────┼────────────────┼───────────────────────┼────────────────────┼────────────────┼───────────────────────┼────────────────────┤\n",
            "│ T + N            │            5 │        0.3291   │               295.728  │             0.9018  │        0.3033  │              276.653  │             0.9213 │         0.3173 │              287.015  │            0.8842  │\n",
            "├──────────────────┼──────────────┼─────────────────┼────────────────────────┼─────────────────────┼────────────────┼───────────────────────┼────────────────────┼────────────────┼───────────────────────┼────────────────────┤\n",
            "│ PCA              │            3 │        0.3349   │               363.552  │             1.0261  │        0.3232  │              323.847  │             1.0961 │         0.3356 │              300.145  │            1.1025  │\n",
            "├──────────────────┼──────────────┼─────────────────┼────────────────────────┼─────────────────────┼────────────────┼───────────────────────┼────────────────────┼────────────────┼───────────────────────┼────────────────────┤\n",
            "│ PCA              │            4 │        0.3301   │               358.687  │             0.9718  │        0.3294  │              294.155  │             0.9098 │         0.3256 │              325.818  │            0.9523  │\n",
            "├──────────────────┼──────────────┼─────────────────┼────────────────────────┼─────────────────────┼────────────────┼───────────────────────┼────────────────────┼────────────────┼───────────────────────┼────────────────────┤\n",
            "│ PCA              │            5 │        0.3301   │               342.172  │             0.9718  │        0.2989  │              301.112  │             1.0387 │         0.3206 │              327.089  │            0.9185  │\n",
            "├──────────────────┼──────────────┼─────────────────┼────────────────────────┼─────────────────────┼────────────────┼───────────────────────┼────────────────────┼────────────────┼───────────────────────┼────────────────────┤\n",
            "│ Normalization    │            3 │        0.3109   │               262.469  │             1.3709  │        0.3215  │              276.313  │             1.3645 │         0.3122 │              263.523  │            1.3428  │\n",
            "├──────────────────┼──────────────┼─────────────────┼────────────────────────┼─────────────────────┼────────────────┼───────────────────────┼────────────────────┼────────────────┼───────────────────────┼────────────────────┤\n",
            "│ Normalization    │            4 │        0.2056   │               200.934  │             1.5994  │        0.212   │              227.429  │             1.6644 │         0.2278 │              242.032  │            1.5822  │\n",
            "├──────────────────┼──────────────┼─────────────────┼────────────────────────┼─────────────────────┼────────────────┼───────────────────────┼────────────────────┼────────────────┼───────────────────────┼────────────────────┤\n",
            "│ Normalization    │            5 │        0.2056   │               200.934  │             1.5994  │        0.1476  │              184.886  │             1.8523 │         0.1973 │              192.339  │            1.6671  │\n",
            "╘══════════════════╧══════════════╧═════════════════╧════════════════════════╧═════════════════════╧════════════════╧═══════════════════════╧════════════════════╧════════════════╧═══════════════════════╧════════════════════╛\n"
          ]
        }
      ]
    }
  ]
}